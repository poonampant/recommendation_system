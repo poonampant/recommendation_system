{
 "cells": [
  {
   "cell_type": "code",
   "execution_count": 11,
   "metadata": {},
   "outputs": [],
   "source": [
    "import pandas as pd\n",
    "\n",
    "from sklearn.metrics.pairwise import cosine_similarity"
   ]
  },
  {
   "cell_type": "code",
   "execution_count": 12,
   "metadata": {},
   "outputs": [
    {
     "name": "stdout",
     "output_type": "stream",
     "text": [
      "   userId  movieId  rating  timestamp\n",
      "0       1        1     4.0  964982703\n",
      "1       1        3     4.0  964981247\n",
      "2       1        6     4.0  964982224\n",
      "3       1       47     5.0  964983815\n",
      "4       1       50     5.0  964982931\n",
      "(100836, 4)\n",
      "   movieId                               title  \\\n",
      "0        1                    Toy Story (1995)   \n",
      "1        2                      Jumanji (1995)   \n",
      "2        3             Grumpier Old Men (1995)   \n",
      "3        4            Waiting to Exhale (1995)   \n",
      "4        5  Father of the Bride Part II (1995)   \n",
      "\n",
      "                                        genres  \n",
      "0  Adventure|Animation|Children|Comedy|Fantasy  \n",
      "1                   Adventure|Children|Fantasy  \n",
      "2                               Comedy|Romance  \n",
      "3                         Comedy|Drama|Romance  \n",
      "4                                       Comedy  \n",
      "   movieId             title  userId  rating\n",
      "0        1  Toy Story (1995)       1     4.0\n",
      "1        1  Toy Story (1995)       5     4.0\n",
      "2        1  Toy Story (1995)       7     4.5\n",
      "3        1  Toy Story (1995)      15     2.5\n",
      "4        1  Toy Story (1995)      17     4.5\n",
      "(100836, 4)\n"
     ]
    }
   ],
   "source": [
    "ratings=pd.read_csv(\"ratings.csv\")\n",
    "print(ratings.head())\n",
    "print(ratings.shape)\n",
    "movies=pd.read_csv(\"movies.csv\")\n",
    "print(movies.head())\n",
    "ratings=pd.merge(movies,ratings).drop([\"genres\",\"timestamp\"], axis=1)\n",
    "print(ratings.head())\n",
    "print(ratings.shape)\n",
    "\n"
   ]
  },
  {
   "cell_type": "code",
   "execution_count": 13,
   "metadata": {
    "scrolled": false
   },
   "outputs": [
    {
     "name": "stdout",
     "output_type": "stream",
     "text": [
      "title   '71 (2014)  'Hellboy': The Seeds of Creation (2004)  \\\n",
      "userId                                                        \n",
      "1              NaN                                      NaN   \n",
      "2              NaN                                      NaN   \n",
      "3              NaN                                      NaN   \n",
      "4              NaN                                      NaN   \n",
      "5              NaN                                      NaN   \n",
      "...            ...                                      ...   \n",
      "606            NaN                                      NaN   \n",
      "607            NaN                                      NaN   \n",
      "608            NaN                                      NaN   \n",
      "609            NaN                                      NaN   \n",
      "610            4.0                                      NaN   \n",
      "\n",
      "title   'Round Midnight (1986)  'Salem's Lot (2004)  \\\n",
      "userId                                                \n",
      "1                          NaN                  NaN   \n",
      "2                          NaN                  NaN   \n",
      "3                          NaN                  NaN   \n",
      "4                          NaN                  NaN   \n",
      "5                          NaN                  NaN   \n",
      "...                        ...                  ...   \n",
      "606                        NaN                  NaN   \n",
      "607                        NaN                  NaN   \n",
      "608                        NaN                  NaN   \n",
      "609                        NaN                  NaN   \n",
      "610                        NaN                  NaN   \n",
      "\n",
      "title   'Til There Was You (1997)  'Tis the Season for Love (2015)  \\\n",
      "userId                                                               \n",
      "1                             NaN                              NaN   \n",
      "2                             NaN                              NaN   \n",
      "3                             NaN                              NaN   \n",
      "4                             NaN                              NaN   \n",
      "5                             NaN                              NaN   \n",
      "...                           ...                              ...   \n",
      "606                           NaN                              NaN   \n",
      "607                           NaN                              NaN   \n",
      "608                           NaN                              NaN   \n",
      "609                           NaN                              NaN   \n",
      "610                           NaN                              NaN   \n",
      "\n",
      "title   'burbs, The (1989)  'night Mother (1986)  (500) Days of Summer (2009)  \\\n",
      "userId                                                                          \n",
      "1                      NaN                   NaN                          NaN   \n",
      "2                      NaN                   NaN                          NaN   \n",
      "3                      NaN                   NaN                          NaN   \n",
      "4                      NaN                   NaN                          NaN   \n",
      "5                      NaN                   NaN                          NaN   \n",
      "...                    ...                   ...                          ...   \n",
      "606                    NaN                   NaN                          NaN   \n",
      "607                    NaN                   NaN                          NaN   \n",
      "608                    NaN                   NaN                          NaN   \n",
      "609                    NaN                   NaN                          NaN   \n",
      "610                    NaN                   NaN                          3.5   \n",
      "\n",
      "title   *batteries not included (1987)  ...  Zulu (2013)  [REC] (2007)  \\\n",
      "userId                                  ...                              \n",
      "1                                  NaN  ...          NaN           NaN   \n",
      "2                                  NaN  ...          NaN           NaN   \n",
      "3                                  NaN  ...          NaN           NaN   \n",
      "4                                  NaN  ...          NaN           NaN   \n",
      "5                                  NaN  ...          NaN           NaN   \n",
      "...                                ...  ...          ...           ...   \n",
      "606                                NaN  ...          NaN           NaN   \n",
      "607                                NaN  ...          NaN           NaN   \n",
      "608                                NaN  ...          NaN           NaN   \n",
      "609                                NaN  ...          NaN           NaN   \n",
      "610                                NaN  ...          NaN           4.0   \n",
      "\n",
      "title   [REC]² (2009)  [REC]³ 3 Génesis (2012)  \\\n",
      "userId                                           \n",
      "1                 NaN                      NaN   \n",
      "2                 NaN                      NaN   \n",
      "3                 NaN                      NaN   \n",
      "4                 NaN                      NaN   \n",
      "5                 NaN                      NaN   \n",
      "...               ...                      ...   \n",
      "606               NaN                      NaN   \n",
      "607               NaN                      NaN   \n",
      "608               NaN                      NaN   \n",
      "609               NaN                      NaN   \n",
      "610               3.5                      3.0   \n",
      "\n",
      "title   anohana: The Flower We Saw That Day - The Movie (2013)  \\\n",
      "userId                                                           \n",
      "1                                                     NaN        \n",
      "2                                                     NaN        \n",
      "3                                                     NaN        \n",
      "4                                                     NaN        \n",
      "5                                                     NaN        \n",
      "...                                                   ...        \n",
      "606                                                   NaN        \n",
      "607                                                   NaN        \n",
      "608                                                   NaN        \n",
      "609                                                   NaN        \n",
      "610                                                   NaN        \n",
      "\n",
      "title   eXistenZ (1999)  xXx (2002)  xXx: State of the Union (2005)  \\\n",
      "userId                                                                \n",
      "1                   NaN         NaN                             NaN   \n",
      "2                   NaN         NaN                             NaN   \n",
      "3                   NaN         NaN                             NaN   \n",
      "4                   NaN         NaN                             NaN   \n",
      "5                   NaN         NaN                             NaN   \n",
      "...                 ...         ...                             ...   \n",
      "606                 NaN         NaN                             NaN   \n",
      "607                 NaN         NaN                             NaN   \n",
      "608                 4.5         3.5                             NaN   \n",
      "609                 NaN         NaN                             NaN   \n",
      "610                 NaN         2.0                             1.5   \n",
      "\n",
      "title   ¡Three Amigos! (1986)  À nous la liberté (Freedom for Us) (1931)  \n",
      "userId                                                                    \n",
      "1                         4.0                                        NaN  \n",
      "2                         NaN                                        NaN  \n",
      "3                         NaN                                        NaN  \n",
      "4                         NaN                                        NaN  \n",
      "5                         NaN                                        NaN  \n",
      "...                       ...                                        ...  \n",
      "606                       NaN                                        NaN  \n",
      "607                       NaN                                        NaN  \n",
      "608                       NaN                                        NaN  \n",
      "609                       NaN                                        NaN  \n",
      "610                       NaN                                        NaN  \n",
      "\n",
      "[610 rows x 9719 columns]\n"
     ]
    }
   ],
   "source": [
    "user_ratings=ratings.pivot_table(index=['userId'], columns=['title'], values='rating')\n",
    "print(user_ratings)"
   ]
  },
  {
   "cell_type": "code",
   "execution_count": 14,
   "metadata": {},
   "outputs": [
    {
     "data": {
      "text/plain": [
       "'9719 movies'"
      ]
     },
     "execution_count": 14,
     "metadata": {},
     "output_type": "execute_result"
    }
   ],
   "source": [
    "\"\"\"9719 movies\"\"\""
   ]
  },
  {
   "cell_type": "code",
   "execution_count": 15,
   "metadata": {},
   "outputs": [
    {
     "data": {
      "text/plain": [
       "'Lets remove movies that may create noise that is those movies which are rated by very less users'"
      ]
     },
     "execution_count": 15,
     "metadata": {},
     "output_type": "execute_result"
    }
   ],
   "source": [
    "\"\"\"Lets remove movies that may create noise that is those movies which are rated by very less users\"\"\""
   ]
  },
  {
   "cell_type": "code",
   "execution_count": 16,
   "metadata": {},
   "outputs": [
    {
     "name": "stdout",
     "output_type": "stream",
     "text": [
      "title   'burbs, The (1989)  (500) Days of Summer (2009)  \\\n",
      "userId                                                    \n",
      "1                      0.0                          0.0   \n",
      "2                      0.0                          0.0   \n",
      "3                      0.0                          0.0   \n",
      "4                      0.0                          0.0   \n",
      "5                      0.0                          0.0   \n",
      "...                    ...                          ...   \n",
      "606                    0.0                          0.0   \n",
      "607                    0.0                          0.0   \n",
      "608                    0.0                          0.0   \n",
      "609                    0.0                          0.0   \n",
      "610                    0.0                          3.5   \n",
      "\n",
      "title   10 Cloverfield Lane (2016)  10 Things I Hate About You (1999)  \\\n",
      "userId                                                                  \n",
      "1                              0.0                                0.0   \n",
      "2                              0.0                                0.0   \n",
      "3                              0.0                                0.0   \n",
      "4                              0.0                                0.0   \n",
      "5                              0.0                                0.0   \n",
      "...                            ...                                ...   \n",
      "606                            0.0                                0.0   \n",
      "607                            0.0                                0.0   \n",
      "608                            0.0                                0.0   \n",
      "609                            0.0                                0.0   \n",
      "610                            4.0                                0.0   \n",
      "\n",
      "title   10,000 BC (2008)  101 Dalmatians (1996)  \\\n",
      "userId                                            \n",
      "1                    0.0                    0.0   \n",
      "2                    0.0                    0.0   \n",
      "3                    0.0                    0.0   \n",
      "4                    0.0                    0.0   \n",
      "5                    0.0                    0.0   \n",
      "...                  ...                    ...   \n",
      "606                  0.0                    0.0   \n",
      "607                  0.0                    0.0   \n",
      "608                  0.0                    0.0   \n",
      "609                  0.0                    0.0   \n",
      "610                  0.0                    0.0   \n",
      "\n",
      "title   101 Dalmatians (One Hundred and One Dalmatians) (1961)  \\\n",
      "userId                                                           \n",
      "1                                                     0.0        \n",
      "2                                                     0.0        \n",
      "3                                                     0.0        \n",
      "4                                                     0.0        \n",
      "5                                                     0.0        \n",
      "...                                                   ...        \n",
      "606                                                   0.0        \n",
      "607                                                   0.0        \n",
      "608                                                   0.0        \n",
      "609                                                   0.0        \n",
      "610                                                   0.0        \n",
      "\n",
      "title   12 Angry Men (1957)  12 Years a Slave (2013)  127 Hours (2010)  ...  \\\n",
      "userId                                                                  ...   \n",
      "1                       0.0                      0.0               0.0  ...   \n",
      "2                       0.0                      0.0               0.0  ...   \n",
      "3                       0.0                      0.0               0.0  ...   \n",
      "4                       5.0                      0.0               0.0  ...   \n",
      "5                       0.0                      0.0               0.0  ...   \n",
      "...                     ...                      ...               ...  ...   \n",
      "606                     0.0                      0.0               0.0  ...   \n",
      "607                     0.0                      0.0               0.0  ...   \n",
      "608                     0.0                      0.0               0.0  ...   \n",
      "609                     0.0                      0.0               0.0  ...   \n",
      "610                     0.0                      0.0               4.0  ...   \n",
      "\n",
      "title   Zack and Miri Make a Porno (2008)  Zero Dark Thirty (2012)  \\\n",
      "userId                                                               \n",
      "1                                     0.0                      0.0   \n",
      "2                                     0.0                      0.0   \n",
      "3                                     0.0                      0.0   \n",
      "4                                     0.0                      0.0   \n",
      "5                                     0.0                      0.0   \n",
      "...                                   ...                      ...   \n",
      "606                                   0.0                      0.0   \n",
      "607                                   0.0                      0.0   \n",
      "608                                   0.0                      0.0   \n",
      "609                                   0.0                      0.0   \n",
      "610                                   3.5                      0.0   \n",
      "\n",
      "title   Zero Effect (1998)  Zodiac (2007)  Zombieland (2009)  \\\n",
      "userId                                                         \n",
      "1                      0.0            0.0                0.0   \n",
      "2                      0.0            0.0                3.0   \n",
      "3                      0.0            0.0                0.0   \n",
      "4                      0.0            0.0                0.0   \n",
      "5                      0.0            0.0                0.0   \n",
      "...                    ...            ...                ...   \n",
      "606                    0.0            0.0                0.0   \n",
      "607                    0.0            0.0                0.0   \n",
      "608                    0.0            0.0                0.0   \n",
      "609                    0.0            0.0                0.0   \n",
      "610                    0.0            5.0                3.5   \n",
      "\n",
      "title   Zoolander (2001)  Zootopia (2016)  eXistenZ (1999)  xXx (2002)  \\\n",
      "userId                                                                   \n",
      "1                    0.0              0.0              0.0         0.0   \n",
      "2                    0.0              0.0              0.0         0.0   \n",
      "3                    0.0              0.0              0.0         0.0   \n",
      "4                    0.0              0.0              0.0         0.0   \n",
      "5                    0.0              0.0              0.0         0.0   \n",
      "...                  ...              ...              ...         ...   \n",
      "606                  0.0              0.0              0.0         0.0   \n",
      "607                  0.0              0.0              0.0         0.0   \n",
      "608                  3.0              0.0              4.5         3.5   \n",
      "609                  0.0              0.0              0.0         0.0   \n",
      "610                  4.0              4.0              0.0         2.0   \n",
      "\n",
      "title   ¡Three Amigos! (1986)  \n",
      "userId                         \n",
      "1                         4.0  \n",
      "2                         0.0  \n",
      "3                         0.0  \n",
      "4                         0.0  \n",
      "5                         0.0  \n",
      "...                       ...  \n",
      "606                       0.0  \n",
      "607                       0.0  \n",
      "608                       0.0  \n",
      "609                       0.0  \n",
      "610                       0.0  \n",
      "\n",
      "[610 rows x 2269 columns]\n"
     ]
    }
   ],
   "source": [
    "user_ratings=user_ratings.dropna(thresh=10,axis=1).fillna(0)\n",
    "print(user_ratings)"
   ]
  },
  {
   "cell_type": "code",
   "execution_count": null,
   "metadata": {},
   "outputs": [],
   "source": [
    "movies_similarity_df=user_ratings.corr(method='pearson')\n",
    "print(movies_similarity_df)"
   ]
  },
  {
   "cell_type": "code",
   "execution_count": null,
   "metadata": {},
   "outputs": [],
   "source": [
    "def similar_movies(movieid,rating):\n",
    "    similar_score=movies_similarity_df[movieid]*(rating-2.5)\n",
    "    similar_score=similar_score.sort_values(ascending=False)\n",
    "    \n",
    "    return similar_score\n",
    "\n",
    "\n",
    "action_lover=[(\"2 Fast 2 Furious (Fast and the Furious 2, The) (2003)\",5),(\"12 Years a Slave (2013)\",4.0),(\"2012 (2009)\",3.0),(\"(500) Days of Summer (2009)\",2)] \n",
    "\n",
    "recommend_movies=pd.DataFrame()\n",
    "\n",
    "for movie,rating in action_lover:\n",
    "    recommend_movies=recommend_movies.append(similar_movies(movie,rating),ignore_index=True)\n",
    "    \n",
    "print(recommend_movies.head())\n",
    "recommend_movies.sum().sort_values(ascending=False)\n"
   ]
  },
  {
   "cell_type": "code",
   "execution_count": null,
   "metadata": {},
   "outputs": [],
   "source": []
  },
  {
   "cell_type": "code",
   "execution_count": null,
   "metadata": {},
   "outputs": [],
   "source": []
  },
  {
   "cell_type": "code",
   "execution_count": 9,
   "metadata": {},
   "outputs": [
    {
     "name": "stdout",
     "output_type": "stream",
     "text": [
      "[[2 1]\n",
      " [1 2]]\n"
     ]
    }
   ],
   "source": [
    "\n"
   ]
  },
  {
   "cell_type": "code",
   "execution_count": 10,
   "metadata": {},
   "outputs": [
    {
     "name": "stdout",
     "output_type": "stream",
     "text": [
      "[[1.  0.8]\n",
      " [0.8 1. ]]\n"
     ]
    }
   ],
   "source": []
  },
  {
   "cell_type": "code",
   "execution_count": null,
   "metadata": {},
   "outputs": [],
   "source": []
  },
  {
   "cell_type": "code",
   "execution_count": null,
   "metadata": {},
   "outputs": [],
   "source": []
  }
 ],
 "metadata": {
  "kernelspec": {
   "display_name": "Python 3",
   "language": "python",
   "name": "python3"
  },
  "language_info": {
   "codemirror_mode": {
    "name": "ipython",
    "version": 3
   },
   "file_extension": ".py",
   "mimetype": "text/x-python",
   "name": "python",
   "nbconvert_exporter": "python",
   "pygments_lexer": "ipython3",
   "version": "3.7.0"
  }
 },
 "nbformat": 4,
 "nbformat_minor": 2
}
